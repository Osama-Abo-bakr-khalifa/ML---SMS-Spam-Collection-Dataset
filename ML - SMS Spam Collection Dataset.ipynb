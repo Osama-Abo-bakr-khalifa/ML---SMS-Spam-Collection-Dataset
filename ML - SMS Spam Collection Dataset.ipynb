{
 "cells": [
  {
   "cell_type": "markdown",
   "id": "a729df2b",
   "metadata": {},
   "source": [
    "## Main Library"
   ]
  },
  {
   "cell_type": "code",
   "execution_count": 1,
   "id": "8d2154b4",
   "metadata": {},
   "outputs": [],
   "source": [
    "# Reading Data & Visualization\n",
    "import pandas as pd\n",
    "import numpy as np\n",
    "import matplotlib.pyplot as plt\n",
    "import seaborn as sns\n",
    "\n",
    "# Preprocessing\n",
    "from sklearn.model_selection import train_test_split\n",
    "from imblearn.over_sampling import SMOTE\n",
    "from sklearn.feature_extraction.text import TfidfVectorizer\n",
    "from sklearn.metrics import r2_score, accuracy_score\n",
    "\n",
    "# Building Neural Network\n",
    "import tensorflow as tf\n",
    "import tensorflow.keras as k\n",
    "\n",
    "\n",
    "# Building model\n",
    "from sklearn.ensemble import AdaBoostClassifier\n",
    "from sklearn.tree import DecisionTreeClassifier"
   ]
  },
  {
   "cell_type": "code",
   "execution_count": 2,
   "id": "751859ef",
   "metadata": {},
   "outputs": [],
   "source": [
    "# Reading Data\n",
    "data = pd.read_csv(r\"D:\\Courses language programming\\5_Machine Learning\\Dataset For Machine Learning\\Spam_Mail\\mail_data.csv\")"
   ]
  },
  {
   "cell_type": "code",
   "execution_count": 3,
   "id": "5a3c67f9",
   "metadata": {},
   "outputs": [
    {
     "data": {
      "text/html": [
       "<div>\n",
       "<style scoped>\n",
       "    .dataframe tbody tr th:only-of-type {\n",
       "        vertical-align: middle;\n",
       "    }\n",
       "\n",
       "    .dataframe tbody tr th {\n",
       "        vertical-align: top;\n",
       "    }\n",
       "\n",
       "    .dataframe thead th {\n",
       "        text-align: right;\n",
       "    }\n",
       "</style>\n",
       "<table border=\"1\" class=\"dataframe\">\n",
       "  <thead>\n",
       "    <tr style=\"text-align: right;\">\n",
       "      <th></th>\n",
       "      <th>Category</th>\n",
       "      <th>Message</th>\n",
       "    </tr>\n",
       "  </thead>\n",
       "  <tbody>\n",
       "    <tr>\n",
       "      <th>0</th>\n",
       "      <td>ham</td>\n",
       "      <td>Go until jurong point, crazy.. Available only ...</td>\n",
       "    </tr>\n",
       "    <tr>\n",
       "      <th>1</th>\n",
       "      <td>ham</td>\n",
       "      <td>Ok lar... Joking wif u oni...</td>\n",
       "    </tr>\n",
       "    <tr>\n",
       "      <th>2</th>\n",
       "      <td>spam</td>\n",
       "      <td>Free entry in 2 a wkly comp to win FA Cup fina...</td>\n",
       "    </tr>\n",
       "    <tr>\n",
       "      <th>3</th>\n",
       "      <td>ham</td>\n",
       "      <td>U dun say so early hor... U c already then say...</td>\n",
       "    </tr>\n",
       "    <tr>\n",
       "      <th>4</th>\n",
       "      <td>ham</td>\n",
       "      <td>Nah I don't think he goes to usf, he lives aro...</td>\n",
       "    </tr>\n",
       "  </tbody>\n",
       "</table>\n",
       "</div>"
      ],
      "text/plain": [
       "  Category                                            Message\n",
       "0      ham  Go until jurong point, crazy.. Available only ...\n",
       "1      ham                      Ok lar... Joking wif u oni...\n",
       "2     spam  Free entry in 2 a wkly comp to win FA Cup fina...\n",
       "3      ham  U dun say so early hor... U c already then say...\n",
       "4      ham  Nah I don't think he goes to usf, he lives aro..."
      ]
     },
     "execution_count": 3,
     "metadata": {},
     "output_type": "execute_result"
    }
   ],
   "source": [
    "data.head(5)"
   ]
  },
  {
   "cell_type": "code",
   "execution_count": 4,
   "id": "a2e3135d",
   "metadata": {},
   "outputs": [
    {
     "data": {
      "text/plain": [
       "Category    0\n",
       "Message     0\n",
       "dtype: int64"
      ]
     },
     "execution_count": 4,
     "metadata": {},
     "output_type": "execute_result"
    }
   ],
   "source": [
    "data.isnull().sum()"
   ]
  },
  {
   "cell_type": "code",
   "execution_count": 5,
   "id": "a3dd2a91",
   "metadata": {},
   "outputs": [
    {
     "data": {
      "text/plain": [
       "Category\n",
       "ham     4825\n",
       "spam     747\n",
       "Name: count, dtype: int64"
      ]
     },
     "execution_count": 5,
     "metadata": {},
     "output_type": "execute_result"
    }
   ],
   "source": [
    "data[\"Category\"].value_counts()"
   ]
  },
  {
   "cell_type": "markdown",
   "id": "5fc57d66",
   "metadata": {},
   "source": [
    "#### Data Not have null value and have over data to ham"
   ]
  },
  {
   "cell_type": "code",
   "execution_count": 6,
   "id": "78698f2a",
   "metadata": {},
   "outputs": [],
   "source": [
    "data.loc[data[\"Category\"] == \"spam\", \"Category\"] = 1\n",
    "data.loc[data[\"Category\"] == \"ham\", \"Category\"] = 0"
   ]
  },
  {
   "cell_type": "code",
   "execution_count": 7,
   "id": "43cffdce",
   "metadata": {},
   "outputs": [
    {
     "data": {
      "text/html": [
       "<div>\n",
       "<style scoped>\n",
       "    .dataframe tbody tr th:only-of-type {\n",
       "        vertical-align: middle;\n",
       "    }\n",
       "\n",
       "    .dataframe tbody tr th {\n",
       "        vertical-align: top;\n",
       "    }\n",
       "\n",
       "    .dataframe thead th {\n",
       "        text-align: right;\n",
       "    }\n",
       "</style>\n",
       "<table border=\"1\" class=\"dataframe\">\n",
       "  <thead>\n",
       "    <tr style=\"text-align: right;\">\n",
       "      <th></th>\n",
       "      <th>Category</th>\n",
       "      <th>Message</th>\n",
       "    </tr>\n",
       "  </thead>\n",
       "  <tbody>\n",
       "    <tr>\n",
       "      <th>0</th>\n",
       "      <td>0</td>\n",
       "      <td>Go until jurong point, crazy.. Available only ...</td>\n",
       "    </tr>\n",
       "    <tr>\n",
       "      <th>1</th>\n",
       "      <td>0</td>\n",
       "      <td>Ok lar... Joking wif u oni...</td>\n",
       "    </tr>\n",
       "    <tr>\n",
       "      <th>2</th>\n",
       "      <td>1</td>\n",
       "      <td>Free entry in 2 a wkly comp to win FA Cup fina...</td>\n",
       "    </tr>\n",
       "    <tr>\n",
       "      <th>3</th>\n",
       "      <td>0</td>\n",
       "      <td>U dun say so early hor... U c already then say...</td>\n",
       "    </tr>\n",
       "    <tr>\n",
       "      <th>4</th>\n",
       "      <td>0</td>\n",
       "      <td>Nah I don't think he goes to usf, he lives aro...</td>\n",
       "    </tr>\n",
       "  </tbody>\n",
       "</table>\n",
       "</div>"
      ],
      "text/plain": [
       "  Category                                            Message\n",
       "0        0  Go until jurong point, crazy.. Available only ...\n",
       "1        0                      Ok lar... Joking wif u oni...\n",
       "2        1  Free entry in 2 a wkly comp to win FA Cup fina...\n",
       "3        0  U dun say so early hor... U c already then say...\n",
       "4        0  Nah I don't think he goes to usf, he lives aro..."
      ]
     },
     "execution_count": 7,
     "metadata": {},
     "output_type": "execute_result"
    }
   ],
   "source": [
    "data.head(5)"
   ]
  },
  {
   "cell_type": "code",
   "execution_count": 8,
   "id": "44bc68a2",
   "metadata": {},
   "outputs": [
    {
     "data": {
      "text/plain": [
       "Message\n",
       "Sorry, I'll call later                                                                                                                                      30\n",
       "I cant pick the phone right now. Pls send a message                                                                                                         12\n",
       "Ok...                                                                                                                                                       10\n",
       "Ok                                                                                                                                                           4\n",
       "Ok.                                                                                                                                                          4\n",
       "                                                                                                                                                            ..\n",
       "I gotta collect da car at 6 lei.                                                                                                                             1\n",
       "No. On the way home. So if not for the long dry spell the season would have been over                                                                        1\n",
       "Urgent! Please call 09061743811 from landline. Your ABTA complimentary 4* Tenerife Holiday or £5000 cash await collection SAE T&Cs Box 326 CW25WX 150ppm     1\n",
       "I think asking for a gym is the excuse for lazy people. I jog.                                                                                               1\n",
       "Rofl. Its true to its name                                                                                                                                   1\n",
       "Name: count, Length: 5157, dtype: int64"
      ]
     },
     "execution_count": 8,
     "metadata": {},
     "output_type": "execute_result"
    }
   ],
   "source": [
    "data[\"Message\"].value_counts()"
   ]
  },
  {
   "cell_type": "markdown",
   "id": "b84614f5",
   "metadata": {},
   "source": [
    "## Make Split ==> Data To Building Model"
   ]
  },
  {
   "cell_type": "code",
   "execution_count": 9,
   "id": "9a51a5ef",
   "metadata": {},
   "outputs": [],
   "source": [
    "x_input = data[\"Message\"]\n",
    "y_output = data[\"Category\"]\n",
    "\n",
    "x_train, x_test, y_train, y_test = train_test_split(x_input, y_output, train_size=0.7, random_state=42)"
   ]
  },
  {
   "cell_type": "code",
   "execution_count": 10,
   "id": "8e4a987a",
   "metadata": {},
   "outputs": [
    {
     "data": {
      "text/plain": [
       "3245    Squeeeeeze!! This is christmas hug.. If u lik ...\n",
       "944     And also I've sorta blown him off a couple tim...\n",
       "1044    Mmm thats better now i got a roast down me! i...\n",
       "2484        Mm have some kanji dont eat anything heavy ok\n",
       "812     So there's a ring that comes with the guys cos...\n",
       "                              ...                        \n",
       "2505    Hello, my boytoy! I made it home and my consta...\n",
       "2525    FREE entry into our £250 weekly comp just send...\n",
       "4975    Aiyo u so poor thing... Then u dun wan 2 eat? ...\n",
       "650     You have won ?1,000 cash or a ?2,000 prize! To...\n",
       "4463    Sorry I flaked last night, shit's seriously go...\n",
       "Name: Message, Length: 1672, dtype: object"
      ]
     },
     "execution_count": 10,
     "metadata": {},
     "output_type": "execute_result"
    }
   ],
   "source": [
    "x_test"
   ]
  },
  {
   "cell_type": "markdown",
   "id": "583d8e15",
   "metadata": {},
   "source": [
    "##  ------------------------------------------------------------------------------------------------------\n",
    "### Make Feature Extraction - To transform Test ---> numeric Vector \n",
    "##  ------------------------------------------------------------------------------------------------------"
   ]
  },
  {
   "cell_type": "code",
   "execution_count": 11,
   "id": "448b0b26",
   "metadata": {},
   "outputs": [],
   "source": [
    "feature_extraction = TfidfVectorizer(min_df=1, stop_words=\"english\", lowercase=True)"
   ]
  },
  {
   "cell_type": "code",
   "execution_count": 12,
   "id": "2378afe4",
   "metadata": {},
   "outputs": [],
   "source": [
    "new_x_train = feature_extraction.fit_transform(x_train)\n",
    "new_x_test = feature_extraction.transform(x_test)\n",
    "\n",
    "y_train = y_train.astype(\"int\")\n",
    "y_test = y_test.astype(\"int\")"
   ]
  },
  {
   "cell_type": "markdown",
   "id": "0382d445",
   "metadata": {},
   "source": [
    "##  ------------------------------------------------------------------------------------------------------\n",
    "##  Make over sampling \n",
    "##  ------------------------------------------------------------------------------------------------------"
   ]
  },
  {
   "cell_type": "code",
   "execution_count": 13,
   "id": "68aac7be",
   "metadata": {},
   "outputs": [],
   "source": [
    "new_x, new_y = SMOTE().fit_resample(new_x_train, y_train)\n",
    "new_x2, new_y2 = SMOTE().fit_resample(new_x_test, y_test)"
   ]
  },
  {
   "cell_type": "code",
   "execution_count": 14,
   "id": "f471bfaa",
   "metadata": {},
   "outputs": [
    {
     "data": {
      "text/plain": [
       "(Category\n",
       " 0    3377\n",
       " 1    3377\n",
       " Name: count, dtype: int64,\n",
       " Category\n",
       " 0    1448\n",
       " 1    1448\n",
       " Name: count, dtype: int64)"
      ]
     },
     "execution_count": 14,
     "metadata": {},
     "output_type": "execute_result"
    }
   ],
   "source": [
    "new_y.value_counts(), new_y2.value_counts()"
   ]
  },
  {
   "cell_type": "markdown",
   "id": "10046d7d",
   "metadata": {},
   "source": [
    "## Building Neural Network"
   ]
  },
  {
   "cell_type": "code",
   "execution_count": 15,
   "id": "3b4a0aa5",
   "metadata": {},
   "outputs": [],
   "source": [
    "# model = k.models.Sequential([\n",
    "#     k.layers.Dense(128, activation=\"relu\"),\n",
    "#     k.layers.Dense(1, activation=\"sigmoid\")\n",
    "# ])\n",
    "\n",
    "# model.compile(optimizer=\"adam\", \n",
    "#                   loss=k.losses.CategoricalCrossentropy(), \n",
    "#                  metrics=[\"accuracy\"])\n",
    "# # k.metrics.binary_accuracy"
   ]
  },
  {
   "cell_type": "code",
   "execution_count": 16,
   "id": "8768fbf1",
   "metadata": {},
   "outputs": [],
   "source": [
    "# model.fit(new_x_train, y_train, validation_data=(new_x_test, y_test))"
   ]
  },
  {
   "cell_type": "markdown",
   "id": "3323cec9",
   "metadata": {},
   "source": [
    "## Building Model => AdaBoostClassifier"
   ]
  },
  {
   "cell_type": "markdown",
   "id": "00e30c15",
   "metadata": {},
   "source": [
    "#### Training without oversampling"
   ]
  },
  {
   "cell_type": "code",
   "execution_count": 17,
   "id": "fb77cbdd",
   "metadata": {},
   "outputs": [
    {
     "name": "stdout",
     "output_type": "stream",
     "text": [
      "The predict Score Train is ==> 0.9992307692307693\n",
      "%----------------------------------------------------------%\n",
      "The predict Score Test is ==> 0.97188995215311\n"
     ]
    }
   ],
   "source": [
    "Adaboost = AdaBoostClassifier(estimator=DecisionTreeClassifier(max_depth=100, \n",
    "                                                               min_samples_split=5,\n",
    "                                                               min_samples_leaf=6),\n",
    "                              n_estimators=200,\n",
    "                              learning_rate=0.2)\n",
    "\n",
    "\n",
    "Adaboost.fit(new_x_train, y_train)\n",
    "\n",
    "print(f\"The predict Score Train is ==> {Adaboost.score(new_x_train, y_train)}\")\n",
    "print(\"%----------------------------------------------------------%\")\n",
    "print(f\"The predict Score Test is ==> {Adaboost.score(new_x_test, y_test)}\")"
   ]
  },
  {
   "cell_type": "markdown",
   "id": "1e8efb54",
   "metadata": {},
   "source": [
    "#### Training with  oversampling"
   ]
  },
  {
   "cell_type": "code",
   "execution_count": 18,
   "id": "319dee2a",
   "metadata": {},
   "outputs": [
    {
     "name": "stdout",
     "output_type": "stream",
     "text": [
      "The predict Score Train is ==> 0.9998519395913533\n",
      "%----------------------------------------------------------%\n",
      "The predict Score Test is ==> 0.9651243093922652\n"
     ]
    }
   ],
   "source": [
    "Adaboost_smote = AdaBoostClassifier(estimator=DecisionTreeClassifier(max_depth=50,\n",
    "                                                                     min_samples_leaf=6,\n",
    "                                                                     min_samples_split=5),\n",
    "                                    n_estimators=100,\n",
    "                                    learning_rate=0.1)\n",
    "\n",
    "\n",
    "Adaboost_smote.fit(new_x, new_y)\n",
    "\n",
    "print(f\"The predict Score Train is ==> {Adaboost_smote.score(new_x, new_y)}\")\n",
    "print(\"%----------------------------------------------------------%\")\n",
    "print(f\"The predict Score Test is ==> {Adaboost_smote.score(new_x2, new_y2)}\")"
   ]
  },
  {
   "cell_type": "code",
   "execution_count": null,
   "id": "73e3a942",
   "metadata": {},
   "outputs": [],
   "source": []
  },
  {
   "cell_type": "markdown",
   "id": "f9f6c999",
   "metadata": {},
   "source": [
    "## Building System Predictor"
   ]
  },
  {
   "cell_type": "code",
   "execution_count": 78,
   "id": "c9fd6442",
   "metadata": {},
   "outputs": [
    {
     "name": "stdout",
     "output_type": "stream",
     "text": [
      "Did you hear about the new \"\"Divorce Barbie\"\"? It comes with all of Ken's stuff!\n",
      "Ham\n"
     ]
    }
   ],
   "source": [
    "new_text = pd.DataFrame(data=[input()], columns=[\"Message\"])\n",
    "\n",
    "text = feature_extraction.transform(new_text)\n",
    "\n",
    "prediction = Adaboost.predict(text)\n",
    "\n",
    "if prediction[-1] == 0: print(\"Ham\")\n",
    "else: print(\"Spam\")"
   ]
  },
  {
   "cell_type": "code",
   "execution_count": 81,
   "id": "0ffba555",
   "metadata": {},
   "outputs": [
    {
     "name": "stdout",
     "output_type": "stream",
     "text": [
      "0    Did you hear about the new \"\"Divorce Barbie\"\"?...\n",
      "Name: Message, dtype: object\n",
      "\n",
      "\n",
      "[0]\n"
     ]
    }
   ],
   "source": [
    "print(new_text[\"Message\"])\n",
    "print(\"\\n\")\n",
    "print(prediction)"
   ]
  },
  {
   "cell_type": "code",
   "execution_count": null,
   "id": "794b0b5b",
   "metadata": {},
   "outputs": [],
   "source": []
  }
 ],
 "metadata": {
  "kernelspec": {
   "display_name": "Python 3 (ipykernel)",
   "language": "python",
   "name": "python3"
  },
  "language_info": {
   "codemirror_mode": {
    "name": "ipython",
    "version": 3
   },
   "file_extension": ".py",
   "mimetype": "text/x-python",
   "name": "python",
   "nbconvert_exporter": "python",
   "pygments_lexer": "ipython3",
   "version": "3.10.9"
  }
 },
 "nbformat": 4,
 "nbformat_minor": 5
}
